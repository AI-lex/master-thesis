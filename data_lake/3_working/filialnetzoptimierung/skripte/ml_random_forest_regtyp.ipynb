{
 "cells": [
  {
   "cell_type": "markdown",
   "metadata": {},
   "source": [
    "<h1 align=\"center\">Bibliotheken und Daten laden sowie Spark Session erzeugen</h1>"
   ]
  },
  {
   "cell_type": "code",
   "execution_count": 1,
   "metadata": {},
   "outputs": [],
   "source": [
    "import pprint as pp\n",
    "import pandas as pd\n",
    "from pyspark.sql import SparkSession\n",
    "from pyspark.sql.functions import col, udf\n",
    "\n",
    "from pyspark.ml import Pipeline\n",
    "from pyspark.ml.regression import RandomForestRegressor\n",
    "from pyspark.ml.feature import VectorAssembler, OneHotEncoderEstimator, StringIndexer\n",
    "from pyspark.ml.evaluation import RegressionEvaluator\n",
    "from pyspark.ml.tuning import CrossValidator, ParamGridBuilder\n",
    "\n",
    "\n",
    "#https://mapr.com/blog/churn-prediction-sparkml/\n",
    "#Vorgehen: Load -> Extract Feature -> Transformer -> Train Model -> Evaluator\n",
    "\n",
    "\n",
    "spark = SparkSession\\\n",
    "    .builder\\\n",
    "    .master(\"local[*]\")\\\n",
    "    .appName(\"predict revenue random forest\")\\\n",
    "    .getOrCreate()\n",
    "\n",
    "dateipfad = \"C:\\\\Users\\\\AMeinert\\\\Documents\\\\Python_Scripts\\\\projects\\\\MA\\\\data\\\\share\\\\\"\n",
    "datei_selected_features = \"selected_features.csv\"\n",
    "\n",
    "\n",
    "data = spark.read.csv(dateipfad + datei_selected_features, sep=\";\", inferSchema=True, encoding=\"ISO-8859-1\", header=True)\n",
    "\n"
   ]
  },
  {
   "cell_type": "code",
   "execution_count": 2,
   "metadata": {},
   "outputs": [
    {
     "name": "stdout",
     "output_type": "stream",
     "text": [
      "root\n",
      " |-- DEM_3_29: double (nullable = true)\n",
      " |-- GEB_6_4: double (nullable = true)\n",
      " |-- DEM_2_4: double (nullable = true)\n",
      " |-- HH_4_4: double (nullable = true)\n",
      " |-- WHG_4_2: double (nullable = true)\n",
      " |-- osm_nodes_counter: integer (nullable = true)\n",
      " |-- BEV_INSGESAMT: integer (nullable = true)\n",
      " |-- BEV_JE_QM: integer (nullable = true)\n",
      " |-- FLAECHE_QM: double (nullable = true)\n",
      " |-- ANTEIL_ARBEITSLOSE: double (nullable = true)\n",
      " |-- ANTEIL_ARBEITSLOSE_ALTER_15_24: double (nullable = true)\n",
      " |-- ANTEIL_SIEDLUNG_VERKEHR: double (nullable = true)\n",
      " |-- EINK_JE_EINW: double (nullable = true)\n",
      " |-- WHG_6_5: double (nullable = true)\n",
      " |-- BESIEDLUNGSSCHLUESSEL: integer (nullable = true)\n",
      " |-- REGIONSTYP: string (nullable = true)\n",
      " |-- revenue_sum1: double (nullable = true)\n",
      " |-- revenue_sum2: double (nullable = true)\n",
      " |-- revenue_avg2: double (nullable = true)\n",
      " |-- revenue_avg1_per_head: double (nullable = true)\n",
      " |-- revenue_avg2_per_head: double (nullable = true)\n",
      " |-- revenue_avg1: double (nullable = true)\n",
      "\n"
     ]
    }
   ],
   "source": [
    "data.printSchema()"
   ]
  },
  {
   "cell_type": "code",
   "execution_count": 18,
   "metadata": {},
   "outputs": [
    {
     "data": {
      "text/plain": [
       "9118"
      ]
     },
     "execution_count": 18,
     "metadata": {},
     "output_type": "execute_result"
    }
   ],
   "source": []
  },
  {
   "cell_type": "markdown",
   "metadata": {},
   "source": [
    "<img src=\"https://mapr.com/blog/churn-prediction-sparkml/assets/Picture11.png\">"
   ]
  },
  {
   "cell_type": "markdown",
   "metadata": {},
   "source": [
    "<h1 align=\"center\">KONFIGURATION DES MODELLS</h1>"
   ]
  },
  {
   "cell_type": "markdown",
   "metadata": {},
   "source": [
    "<h2>Random Forest Tuning Parameters (hyperparameter-tuning)</h2>\n",
    "<div>The first two parameters we mention are the most important, and tuning them can often improve performance:\n",
    "    \n",
    "<ul><b>numTrees</b>: Number of trees in the forest. Increasing the number of trees will decrease the variance in predictions,improving the model’s test-time accuracy. raining time increases roughly linearly in the number of trees.</ul>\n",
    "\n",
    "<ul><b>maxDepth</b>: Maximum depth of each tree in the forest. ncreasing the depth makes the model more expressive and powerful. However, deep trees take longer to train and are also more prone to overfitting. Ingeneral, it is acceptable to train deeper trees when using random forests than when using a single decision tree. One tree is more likely to overfit than a random forest (because of the variance reduction from averaging multiple trees in the forest).</ul>\n",
    "</div>\n",
    "<div>\n",
    "The next two parameters generally do not require tuning. However, they can be tuned to speed up training.\n",
    "\n",
    "<ul><b>subsamplingRate:</b> This parameter specifies the size of the dataset used for training each tree in the forest, as a fraction of the size of the original dataset. The default (1.0) is recommended, but decreasing this fraction can speed up training.</ul>\n",
    "\n",
    "<ul><b>featureSubsetStrategy:</b> Number of features to use as candidates for splitting at each tree node. The number is specified as a fraction or function of the total number of features. Decreasing this number will speed up training, but can sometimes impact performance if too low.</ul>\n",
    "</div>\n"
   ]
  },
  {
   "cell_type": "code",
   "execution_count": 10,
   "metadata": {},
   "outputs": [],
   "source": [
    "test_set_size = 0.3\n",
    "seed = 42\n",
    "\n",
    "input_feat = [\"DEM_3_29\", \n",
    "              \"GEB_6_4\",\n",
    "              \"DEM_2_4\",\n",
    "              \"HH_4_4\",\n",
    "              \"WHG_4_2\",\n",
    "              \"osm_nodes_counter\",\n",
    "              \"BEV_INSGESAMT\",\n",
    "              \"BEV_JE_QM\",\n",
    "              \"FLAECHE_QM\",\n",
    "              \"ANTEIL_ARBEITSLOSE\",\n",
    "              \"ANTEIL_ARBEITSLOSE_ALTER_15_24\",\n",
    "              \"ANTEIL_SIEDLUNG_VERKEHR\",\n",
    "              \"EINK_JE_EINW\",\n",
    "              \"WHG_6_5\",\n",
    "              \"BESIEDLUNGSSCHLUESSEL\",\n",
    "              \"REGIONSTYP\"]\n",
    "\n",
    "pred_col = \"revenue_avg1\"\n",
    "\n",
    "rf = RandomForestRegressor(featuresCol=\"features\", seed=seed)\n",
    "\n",
    "\"\"\"\n",
    "paramGrid = ParamGridBuilder()\\\n",
    "    .addGrid(rf.subsamplingRate, [0.7, 0.8, 0.9, 1.0])\\\n",
    "    .addGrid(rf.numTrees, [3, 4, 5, 6, 7, 10, 15, 30, 60, 120, 200])\\\n",
    "    .addGrid(rf.maxDepth, [2, 3, 4, 5, 6])\\\n",
    "    .addGrid(rf.featureSubsetStrategy, [\"all\", \"onethird\", \"sqrt\"])\\\n",
    "    .build()\n",
    "\"\"\"\n",
    "    \n",
    "paramGrid = ParamGridBuilder()\\\n",
    "    .addGrid(rf.subsamplingRate, [0.7, 0.8, 0.9, 1.0])\\\n",
    "    .addGrid(rf.numTrees, [3, 7, 10, 120])\\\n",
    "    .addGrid(rf.maxDepth, [2, 5])\\\n",
    "    .addGrid(rf.featureSubsetStrategy, [\"all\", \"onethird\"])\\\n",
    "    .build()\n",
    "    \n",
    "\n",
    "crossval = CrossValidator(estimator=rf,\n",
    "                          estimatorParamMaps=paramGrid,\n",
    "                          evaluator=RegressionEvaluator(),\n",
    "                          numFolds=3)  # use 3+ folds in practice\n"
   ]
  },
  {
   "cell_type": "markdown",
   "metadata": {},
   "source": [
    "<h1 align=\"center\">FEATURE TRANSFORMATION</h1>\n",
    "<ol>\n",
    "    <li>Überführung der kategorialen Variabeln in numerische Typen (StringIndexer)</li>\n",
    "    <li>Kategoriale Variablen (indexiert) in binäre Vektoren (OneHotEncoderEstimator)</li>\n",
    "    <li>Feature Vektor mit allen Merkmalen erzeugen (VektorAssembler)</li>\n",
    "</ol>"
   ]
  },
  {
   "cell_type": "code",
   "execution_count": 4,
   "metadata": {},
   "outputs": [
    {
     "name": "stdout",
     "output_type": "stream",
     "text": [
      "Rows vor Eliminierung der Nullwerte: 9571\n",
      "Rows nach Eliminierung der Nullwerte: 9118\n",
      "+----------+----------------+\n",
      "|REGIONSTYP|REGIONSTYP_INDEX|\n",
      "+----------+----------------+\n",
      "|     stadt|             1.0|\n",
      "|     stadt|             1.0|\n",
      "|       gem|             0.0|\n",
      "|       gem|             0.0|\n",
      "|       gem|             0.0|\n",
      "|       gem|             0.0|\n",
      "|       gem|             0.0|\n",
      "|       gem|             0.0|\n",
      "|       gem|             0.0|\n",
      "|       gem|             0.0|\n",
      "|       gem|             0.0|\n",
      "|       gem|             0.0|\n",
      "|       gem|             0.0|\n",
      "|       gem|             0.0|\n",
      "|       gem|             0.0|\n",
      "|     stadt|             1.0|\n",
      "|       gem|             0.0|\n",
      "|       gem|             0.0|\n",
      "|       gem|             0.0|\n",
      "|       gem|             0.0|\n",
      "+----------+----------------+\n",
      "only showing top 20 rows\n",
      "\n"
     ]
    }
   ],
   "source": [
    "data_not_null = data.dropna(subset=input_feat)\n",
    "print(\"Rows vor Eliminierung der Nullwerte: \" + str(data.count()))\n",
    "print(\"Rows nach Eliminierung der Nullwerte: \" + str(data_not_null.count()))\n",
    "\n",
    "\n",
    "indexer = StringIndexer(inputCol=\"REGIONSTYP\", outputCol=\"REGIONSTYP_INDEX\")\n",
    "data_indexed = indexer.fit(data_not_null).transform(data_not_null)\n",
    "\n",
    "data_indexed.select(\"REGIONSTYP\", \"REGIONSTYP_INDEX\").show()\n",
    "\n"
   ]
  },
  {
   "cell_type": "code",
   "execution_count": 5,
   "metadata": {},
   "outputs": [],
   "source": [
    "encoder = OneHotEncoderEstimator(inputCols=[\"BESIEDLUNGSSCHLUESSEL\", \"REGIONSTYP_INDEX\"],\n",
    "                                 outputCols=[\"BESIEDLUNGSSCHLUESSEL_encoded\", \"REGIONSTYP_encoded\"])\n",
    "\n",
    "data_encoded = encoder.fit(data_indexed).transform(data_indexed)\n"
   ]
  },
  {
   "cell_type": "code",
   "execution_count": 6,
   "metadata": {},
   "outputs": [
    {
     "name": "stdout",
     "output_type": "stream",
     "text": [
      "+-----------------------------+---------------------+----------------+------------------+\n",
      "|BESIEDLUNGSSCHLUESSEL_encoded|BESIEDLUNGSSCHLUESSEL|REGIONSTYP_INDEX|REGIONSTYP_encoded|\n",
      "+-----------------------------+---------------------+----------------+------------------+\n",
      "|                    (3,[],[])|                    3|             1.0|         (1,[],[])|\n",
      "|                    (3,[],[])|                    3|             1.0|         (1,[],[])|\n",
      "|                    (3,[],[])|                    3|             0.0|     (1,[0],[1.0])|\n",
      "|                    (3,[],[])|                    3|             0.0|     (1,[0],[1.0])|\n",
      "|                    (3,[],[])|                    3|             0.0|     (1,[0],[1.0])|\n",
      "|                    (3,[],[])|                    3|             0.0|     (1,[0],[1.0])|\n",
      "|                    (3,[],[])|                    3|             0.0|     (1,[0],[1.0])|\n",
      "|                    (3,[],[])|                    3|             0.0|     (1,[0],[1.0])|\n",
      "|                    (3,[],[])|                    3|             0.0|     (1,[0],[1.0])|\n",
      "|                    (3,[],[])|                    3|             0.0|     (1,[0],[1.0])|\n",
      "|                    (3,[],[])|                    3|             0.0|     (1,[0],[1.0])|\n",
      "|                    (3,[],[])|                    3|             0.0|     (1,[0],[1.0])|\n",
      "|                    (3,[],[])|                    3|             0.0|     (1,[0],[1.0])|\n",
      "|                    (3,[],[])|                    3|             0.0|     (1,[0],[1.0])|\n",
      "|                    (3,[],[])|                    3|             0.0|     (1,[0],[1.0])|\n",
      "|                    (3,[],[])|                    3|             1.0|         (1,[],[])|\n",
      "|                    (3,[],[])|                    3|             0.0|     (1,[0],[1.0])|\n",
      "|                    (3,[],[])|                    3|             0.0|     (1,[0],[1.0])|\n",
      "|                    (3,[],[])|                    3|             0.0|     (1,[0],[1.0])|\n",
      "|                    (3,[],[])|                    3|             0.0|     (1,[0],[1.0])|\n",
      "+-----------------------------+---------------------+----------------+------------------+\n",
      "only showing top 20 rows\n",
      "\n"
     ]
    }
   ],
   "source": [
    "data_encoded.select(\"BESIEDLUNGSSCHLUESSEL_encoded\", \"BESIEDLUNGSSCHLUESSEL\", \"REGIONSTYP_INDEX\",\"REGIONSTYP_encoded\").show()"
   ]
  },
  {
   "cell_type": "code",
   "execution_count": 7,
   "metadata": {},
   "outputs": [
    {
     "data": {
      "text/plain": [
       "['DEM_3_29',\n",
       " 'GEB_6_4',\n",
       " 'DEM_2_4',\n",
       " 'HH_4_4',\n",
       " 'WHG_4_2',\n",
       " 'osm_nodes_counter',\n",
       " 'BEV_INSGESAMT',\n",
       " 'BEV_JE_QM',\n",
       " 'FLAECHE_QM',\n",
       " 'ANTEIL_ARBEITSLOSE',\n",
       " 'ANTEIL_ARBEITSLOSE_ALTER_15_24',\n",
       " 'ANTEIL_SIEDLUNG_VERKEHR',\n",
       " 'EINK_JE_EINW',\n",
       " 'WHG_6_5',\n",
       " 'BESIEDLUNGSSCHLUESSEL_encoded',\n",
       " 'REGIONSTYP_encoded']"
      ]
     },
     "execution_count": 7,
     "metadata": {},
     "output_type": "execute_result"
    }
   ],
   "source": [
    "input_feat.remove(\"BESIEDLUNGSSCHLUESSEL\")\n",
    "input_feat.remove(\"REGIONSTYP\")\n",
    "\n",
    "input_feat.append(\"BESIEDLUNGSSCHLUESSEL_encoded\")\n",
    "input_feat.append(\"REGIONSTYP_encoded\")\n",
    "input_feat"
   ]
  },
  {
   "cell_type": "code",
   "execution_count": 8,
   "metadata": {},
   "outputs": [
    {
     "name": "stdout",
     "output_type": "stream",
     "text": [
      "+--------------------------------------------------------------------------------------------------------+\n",
      "|features                                                                                                |\n",
      "+--------------------------------------------------------------------------------------------------------+\n",
      "|[217.0,376.0,4613.0,4088.0,608.0,254.0,13120.0,201.0,65.24,8.4,13.6,10.9,18912.0,317.0,0.0,0.0,0.0,0.0] |\n",
      "|[384.0,707.0,8764.0,7090.0,1342.0,408.0,20886.0,653.0,31.97,8.4,13.6,10.9,18912.0,323.0,0.0,0.0,0.0,0.0]|\n",
      "|[6.0,4.0,221.0,191.0,20.0,17.0,599.0,66.0,9.07,8.4,13.6,10.9,18912.0,17.0,0.0,0.0,0.0,1.0]              |\n",
      "|[21.0,9.0,435.0,283.0,33.0,13.0,1076.0,74.0,14.55,8.4,13.6,10.9,18912.0,12.0,0.0,0.0,0.0,1.0]           |\n",
      "|[72.0,127.0,1493.0,1227.0,198.0,65.0,4237.0,377.0,11.23,8.4,13.6,10.9,18912.0,96.0,0.0,0.0,0.0,1.0]     |\n",
      "|[21.0,19.0,529.0,397.0,31.0,22.0,1367.0,148.0,9.21,8.4,13.6,10.9,18912.0,28.0,0.0,0.0,0.0,1.0]          |\n",
      "|[11.0,12.0,295.0,199.0,18.0,12.0,781.0,61.0,12.79,8.4,13.6,10.9,18912.0,15.0,0.0,0.0,0.0,1.0]           |\n",
      "|[6.0,6.0,185.0,148.0,3.0,5.0,516.0,50.0,10.4,8.4,13.6,10.9,18912.0,9.0,0.0,0.0,0.0,1.0]                 |\n",
      "|[7.0,3.0,430.0,325.0,12.0,22.0,1234.0,226.0,5.46,8.4,13.6,10.9,18912.0,12.0,0.0,0.0,0.0,1.0]            |\n",
      "|[6.0,3.0,237.0,171.0,30.0,12.0,652.0,57.0,11.36,8.4,13.6,10.9,18912.0,9.0,0.0,0.0,0.0,1.0]              |\n",
      "|[80.0,45.0,1330.0,995.0,68.0,91.0,3635.0,158.0,23.05,8.4,13.6,10.9,18912.0,31.0,0.0,0.0,0.0,1.0]        |\n",
      "|[18.0,3.0,337.0,220.0,11.0,11.0,866.0,55.0,15.74,8.4,13.6,10.9,18912.0,11.0,0.0,0.0,0.0,1.0]            |\n",
      "|[19.0,6.0,323.0,226.0,3.0,7.0,755.0,101.0,7.46,8.4,13.6,10.9,18912.0,12.0,0.0,0.0,0.0,1.0]              |\n",
      "|[57.0,54.0,788.0,773.0,221.0,113.0,2452.0,46.0,53.35,8.4,13.6,10.9,18912.0,67.0,0.0,0.0,0.0,1.0]        |\n",
      "|[9.0,13.0,308.0,266.0,18.0,17.0,892.0,31.0,28.85,8.4,13.6,10.9,18912.0,12.0,0.0,0.0,0.0,1.0]            |\n",
      "|[115.0,104.0,2070.0,1667.0,179.0,116.0,5825.0,1206.0,4.83,8.4,13.6,10.9,18912.0,107.0,0.0,0.0,0.0,0.0]  |\n",
      "|[10.0,17.0,324.0,181.0,24.0,1.0,788.0,36.0,21.77,8.4,13.6,10.9,18912.0,18.0,0.0,0.0,0.0,1.0]            |\n",
      "|[21.0,9.0,265.0,197.0,19.0,2.0,717.0,45.0,15.84,8.4,13.6,10.9,18912.0,15.0,0.0,0.0,0.0,1.0]             |\n",
      "|[3.0,4.0,262.0,166.0,14.0,3.0,635.0,81.0,7.82,8.4,13.6,10.9,18912.0,6.0,0.0,0.0,0.0,1.0]                |\n",
      "|[3.0,6.0,204.0,139.0,34.0,17.0,544.0,33.0,16.53,8.4,13.6,10.9,18912.0,14.0,0.0,0.0,0.0,1.0]             |\n",
      "+--------------------------------------------------------------------------------------------------------+\n",
      "only showing top 20 rows\n",
      "\n"
     ]
    },
    {
     "data": {
      "text/plain": [
       "9118"
      ]
     },
     "execution_count": 8,
     "metadata": {},
     "output_type": "execute_result"
    }
   ],
   "source": [
    "vector_assembler = VectorAssembler(\n",
    "    inputCols=input_feat,\n",
    "    outputCol=\"features\")\n",
    "\n",
    "\n",
    "data_vec = vector_assembler.transform(data_encoded)\n",
    "data_vec.select(\"features\").show(truncate= False)\n",
    "data_vec.count()"
   ]
  },
  {
   "cell_type": "markdown",
   "metadata": {},
   "source": [
    "<h1 align=\"center\"> TEST UND TRAININGS DATEN ERZEUGEN <u>FÜR STADT MODELL</u></h1>"
   ]
  },
  {
   "cell_type": "code",
   "execution_count": 11,
   "metadata": {},
   "outputs": [
    {
     "data": {
      "text/plain": [
       "'Rows im gesamten Datensatz:  9571'"
      ]
     },
     "metadata": {},
     "output_type": "display_data"
    },
    {
     "data": {
      "text/plain": [
       "'Rows im Learning-Datensatz (Stadt):  1221'"
      ]
     },
     "metadata": {},
     "output_type": "display_data"
    },
    {
     "data": {
      "text/plain": [
       "'      Rows im Trainings-Datensatz (Stadt):  846'"
      ]
     },
     "metadata": {},
     "output_type": "display_data"
    },
    {
     "data": {
      "text/plain": [
       "'      Rows im Test-Datensatz (Stadt):       375'"
      ]
     },
     "metadata": {},
     "output_type": "display_data"
    },
    {
     "data": {
      "text/plain": [
       "'Rows im Prediction-Datensatz (Stadt): 667'"
      ]
     },
     "metadata": {},
     "output_type": "display_data"
    }
   ],
   "source": [
    "prediction_data = data_vec.select(\"*\").where(col(pred_col).isNull())\n",
    "prediction_data_stadt = prediction_data.select(\"*\").where(col(\"REGIONSTYP_INDEX\") == 1)\n",
    "\n",
    "learning_data = data_vec.select(\"*\").where(col(pred_col).isNotNull()).withColumnRenamed(pred_col, \"label\")\n",
    "learning_data_stadt = learning_data.select(\"*\").where(col(\"REGIONSTYP_INDEX\") == 1)\n",
    "\n",
    "\n",
    "\n",
    "training_stadt, test_stadt = learning_data_stadt.randomSplit([1 - test_set_size , test_set_size], seed=seed)\n",
    "\n",
    "\n",
    "display(\n",
    "    \"Rows im gesamten Datensatz:  \" + str(data.count()),\n",
    "    \"Rows im Learning-Datensatz (Stadt):  \" + str(learning_data_stadt.count()),\n",
    "    \"      Rows im Trainings-Datensatz (Stadt):  \" + str(training_stadt.count()),\n",
    "    \"      Rows im Test-Datensatz (Stadt):       \" + str(test_stadt.count()),\n",
    "    \"Rows im Prediction-Datensatz (Stadt): \" + str(prediction_data_stadt.count())\n",
    ")\n"
   ]
  },
  {
   "cell_type": "markdown",
   "metadata": {},
   "source": [
    "<h1 align=\"center\"> BESTES MODEL AUSWÄHLEN (CrossValidator) UND VALIDIEREN </h1>"
   ]
  },
  {
   "cell_type": "code",
   "execution_count": 12,
   "metadata": {},
   "outputs": [
    {
     "name": "stdout",
     "output_type": "stream",
     "text": [
      "cacheNodeIds False\n",
      "checkpointInterval 10\n",
      "featureSubsetStrategy all\n",
      "featuresCol features\n",
      "impurity variance\n",
      "labelCol label\n",
      "maxBins 32\n",
      "maxDepth 5\n",
      "maxMemoryInMB 256\n",
      "minInfoGain 0.0\n",
      "minInstancesPerNode 1\n",
      "numTrees 120\n",
      "predictionCol prediction\n",
      "seed 42\n",
      "subsamplingRate 1.0\n"
     ]
    }
   ],
   "source": [
    "cvModel_stadt = crossval.fit(training_stadt)\n",
    "\n",
    "for i in range(15):\n",
    "    key = list(cvModel_stadt.bestModel.extractParamMap().keys())[i].name\n",
    "    value = list(cvModel_stadt.bestModel.extractParamMap().values())[i]\n",
    "    print(str(key) + \" \" + str(value))"
   ]
  },
  {
   "cell_type": "code",
   "execution_count": 13,
   "metadata": {},
   "outputs": [],
   "source": [
    "numTrees = 120\n",
    "maxDepth = 5\n",
    "maxBins = 32\n",
    "featureSubsetStrategy = \"all\" #one-all, sqrt,...\n",
    "impurity = \"variance\" #gini\n",
    "subsamplingRate = 1.0"
   ]
  },
  {
   "cell_type": "code",
   "execution_count": 14,
   "metadata": {},
   "outputs": [],
   "source": [
    "pipeline = Pipeline(stages=[vector_assembler, rf])\n",
    "\n",
    "model = pipeline.fit(training_stadt.drop(\"features\"))\n",
    "rfModel = model.stages[1]\n",
    "\n",
    "rf = RandomForestRegressor(featuresCol=\"features\", seed=seed, numTrees=numTrees, maxDepth=maxDepth, maxBins=maxBins,\n",
    "                          featureSubsetStrategy=featureSubsetStrategy, impurity=impurity, subsamplingRate=subsamplingRate)\n"
   ]
  },
  {
   "cell_type": "code",
   "execution_count": 15,
   "metadata": {
    "scrolled": false
   },
   "outputs": [
    {
     "name": "stdout",
     "output_type": "stream",
     "text": [
      "+------------------+----------+--------------------+\n",
      "|        prediction|     label|            features|\n",
      "+------------------+----------+--------------------+\n",
      "| 2197621.912517236|1180740.03|[28.0,44.0,814.0,...|\n",
      "|2576720.7308896207|2805977.82|[30.0,65.0,1323.0...|\n",
      "|2307238.6830275385|1375374.32|[31.0,41.0,720.0,...|\n",
      "|2516996.0628314856|1811525.79|[51.0,116.0,1458....|\n",
      "| 2739141.803059313|1358134.68|[54.0,153.0,1463....|\n",
      "+------------------+----------+--------------------+\n",
      "only showing top 5 rows\n",
      "\n",
      "{'dataset': 'on test set',\n",
      " 'mae': '1214986.62',\n",
      " 'mse': '2386634630438.0',\n",
      " 'r2': '0.89',\n",
      " 'rmse': '1544873.66'}\n"
     ]
    },
    {
     "name": "stderr",
     "output_type": "stream",
     "text": [
      "C:\\Anaconda3\\lib\\site-packages\\pandas\\plotting\\_core.py:1716: UserWarning: Pandas doesn't allow columns to be created via a new attribute name - see https://pandas.pydata.org/pandas-docs/stable/indexing.html#attribute-access\n",
      "  series.name = label\n"
     ]
    },
    {
     "data": {
      "text/plain": [
       "<matplotlib.axes._subplots.AxesSubplot at 0x1b8b332eeb8>"
      ]
     },
     "execution_count": 15,
     "metadata": {},
     "output_type": "execute_result"
    }
   ],
   "source": [
    "validation = model.transform(test_stadt.drop(\"features\"))\n",
    "\n",
    "validation.select(\"prediction\", \"label\", \"features\").show(5)\n",
    "\n",
    "\n",
    "metrics_vali = {}\n",
    "importance = {}\n",
    "\n",
    "for metric in [\"mae\", \"mse\", \"rmse\", \"r2\"]:\n",
    "    evaluator = RegressionEvaluator(\n",
    "    labelCol=\"label\", predictionCol=\"prediction\", metricName=metric)\n",
    "    metric_value = evaluator.evaluate(validation)\n",
    "    metrics_vali.update({metric: str(round(metric_value,2))})\n",
    "\n",
    "\n",
    "for i in range(len(rfModel.featureImportances)):\n",
    "    #print( + \" \" + str(rfModel.featureImportances[i]))\n",
    "    importance.update({test_stadt.columns[i]: rfModel.featureImportances[i]})\n",
    "    \n",
    "    \n",
    "\n",
    "pp.pprint(metrics_vali)    \n",
    "rfModel.extractParamMap() \n",
    "#rfModel.explainParams() \n",
    "\n",
    "pd.Series(index=importance.keys(), data=importance).plot(kind=\"bar\", title=\"Importance Factor of Input Variables\", figsize=(10, 5))\n",
    "\n",
    "validation.toPandas().sort_values(by=[\"prediction\"]).reset_index().plot(title=\"prediction/label testset\", y=[\"prediction\", \"label\"], figsize=(10, 5))\n"
   ]
  },
  {
   "cell_type": "code",
   "execution_count": 43,
   "metadata": {},
   "outputs": [
    {
     "data": {
      "text/plain": [
       "SparseVector(18, {0: 0.0147, 1: 0.0726, 2: 0.0744, 3: 0.0763, 4: 0.1471, 5: 0.4386, 6: 0.1002, 7: 0.0143, 8: 0.0077, 9: 0.0071, 10: 0.0036, 11: 0.015, 12: 0.0145, 13: 0.0057, 15: 0.0062, 16: 0.0018})"
      ]
     },
     "execution_count": 43,
     "metadata": {},
     "output_type": "execute_result"
    }
   ],
   "source": [
    "rfModel.featureImportances"
   ]
  },
  {
   "cell_type": "code",
   "execution_count": null,
   "metadata": {},
   "outputs": [],
   "source": []
  },
  {
   "cell_type": "code",
   "execution_count": null,
   "metadata": {
    "scrolled": true
   },
   "outputs": [],
   "source": [
    "pp.pprint(model.stages[1].toDebugString)"
   ]
  },
  {
   "cell_type": "markdown",
   "metadata": {},
   "source": [
    "<h1 align=\"center\">VORHERSAGE</h1>"
   ]
  },
  {
   "cell_type": "code",
   "execution_count": null,
   "metadata": {},
   "outputs": [],
   "source": [
    "hh_1_4_median = prediction_data_set.approxQuantile(\"HH_1_4\", [0.5], 0)[0]\n",
    "prediction = model.transform(prediction_data_set.fillna(hh_1_4_median, subset=[\"HH_1_4\"]))\n",
    "print(prediction.count())\n",
    "prediction.select(\"prediction\", \"features\").show(5)\n",
    "prediction.select(\"prediction\").collect()\n",
    "\n",
    "\n",
    "prediction.toPandas().sort_values(by=[\"prediction\"]).reset_index().plot(title=\"predicted \" + pred_col, y=[\"prediction\"])\n"
   ]
  },
  {
   "cell_type": "code",
   "execution_count": null,
   "metadata": {},
   "outputs": [],
   "source": []
  },
  {
   "cell_type": "markdown",
   "metadata": {},
   "source": [
    "<h1 align=\"center\"> TEST UND TRAININGS DATEN ERZEUGEN <u>FÜR GEMEINDE MODELL</u></h1>"
   ]
  },
  {
   "cell_type": "code",
   "execution_count": 16,
   "metadata": {},
   "outputs": [
    {
     "data": {
      "text/plain": [
       "'Rows im gesamten Gemeinde-Datensatz:  9571'"
      ]
     },
     "metadata": {},
     "output_type": "display_data"
    },
    {
     "data": {
      "text/plain": [
       "'Rows im Learning-Datensatz (Gemeinde):  604'"
      ]
     },
     "metadata": {},
     "output_type": "display_data"
    },
    {
     "data": {
      "text/plain": [
       "'      Rows im Trainings-Datensatz (Gemeinde):  431'"
      ]
     },
     "metadata": {},
     "output_type": "display_data"
    },
    {
     "data": {
      "text/plain": [
       "'      Rows im Test-Datensatz (Gemeinde):       173'"
      ]
     },
     "metadata": {},
     "output_type": "display_data"
    },
    {
     "data": {
      "text/plain": [
       "'Rows im Prediction-Datensatz (Gemeinde): 6626'"
      ]
     },
     "metadata": {},
     "output_type": "display_data"
    }
   ],
   "source": [
    "prediction_data_gemeinde = prediction_data.select(\"*\").where(col(\"REGIONSTYP_INDEX\") == 0)\n",
    "learning_data_gemeinde = learning_data.select(\"*\").where(col(\"REGIONSTYP_INDEX\") == 0)\n",
    "\n",
    "training_gemeinde, test_gemeinde = learning_data_gemeinde.randomSplit([1 - test_set_size , test_set_size], seed=seed)\n",
    "\n",
    "\n",
    "display(\n",
    "    \"Rows im gesamten Gemeinde-Datensatz:  \" + str(data.count()),\n",
    "    \"Rows im Learning-Datensatz (Gemeinde):  \" + str(learning_data_gemeinde.count()),\n",
    "    \"      Rows im Trainings-Datensatz (Gemeinde):  \" + str(training_gemeinde.count()),\n",
    "    \"      Rows im Test-Datensatz (Gemeinde):       \" + str(test_gemeinde.count()),\n",
    "    \"Rows im Prediction-Datensatz (Gemeinde): \" + str(prediction_data_gemeinde.count())\n",
    ")\n"
   ]
  },
  {
   "cell_type": "markdown",
   "metadata": {},
   "source": [
    "<h1 align=\"center\"> BESTES MODEL AUSWÄHLEN (CrossValidator) UND VALIDIEREN </h1>"
   ]
  },
  {
   "cell_type": "code",
   "execution_count": 17,
   "metadata": {},
   "outputs": [
    {
     "name": "stdout",
     "output_type": "stream",
     "text": [
      "cacheNodeIds False\n",
      "checkpointInterval 10\n",
      "featureSubsetStrategy all\n",
      "featuresCol features\n",
      "impurity variance\n",
      "labelCol label\n",
      "maxBins 32\n",
      "maxDepth 5\n",
      "maxMemoryInMB 256\n",
      "minInfoGain 0.0\n",
      "minInstancesPerNode 1\n",
      "numTrees 120\n",
      "predictionCol prediction\n",
      "seed 42\n",
      "subsamplingRate 1.0\n"
     ]
    }
   ],
   "source": [
    "cvModel_gemeinde = crossval.fit(training_gemeinde)\n",
    "for i in range(15):\n",
    "    key = list(cvModel_gemeinde.bestModel.extractParamMap().keys())[i].name\n",
    "    value = list(cvModel_gemeinde.bestModel.extractParamMap().values())[i]\n",
    "    print(str(key) + \" \" + str(value))"
   ]
  },
  {
   "cell_type": "code",
   "execution_count": 19,
   "metadata": {},
   "outputs": [],
   "source": [
    "numTrees = 120\n",
    "maxDepth = 5\n",
    "maxBins = 32\n",
    "featureSubsetStrategy = \"all\" #one-all, sqrt,...\n",
    "impurity = \"variance\" #gini\n",
    "subsamplingRate = 1.0"
   ]
  },
  {
   "cell_type": "code",
   "execution_count": 20,
   "metadata": {},
   "outputs": [],
   "source": [
    "pipeline = Pipeline(stages=[vector_assembler, rf])\n",
    "\n",
    "model = pipeline.fit(training_gemeinde.drop(\"features\"))\n",
    "rfModel = model.stages[1]\n",
    "\n",
    "rf = RandomForestRegressor(featuresCol=\"features\", seed=seed, numTrees=numTrees, maxDepth=maxDepth, maxBins=maxBins,\n",
    "                          featureSubsetStrategy=featureSubsetStrategy, impurity=impurity, subsamplingRate=subsamplingRate)\n"
   ]
  },
  {
   "cell_type": "code",
   "execution_count": 21,
   "metadata": {
    "scrolled": false
   },
   "outputs": [
    {
     "name": "stdout",
     "output_type": "stream",
     "text": [
      "+------------------+----------+--------------------+\n",
      "|        prediction|     label|            features|\n",
      "+------------------+----------+--------------------+\n",
      "| 1602312.279783241| 426378.41|[3.0,14.0,113.0,8...|\n",
      "|1773695.9684142356|1708572.58|[6.0,12.0,307.0,2...|\n",
      "|3398901.0123755177|2940454.81|[6.0,43.0,299.0,3...|\n",
      "|2357471.1037367587|3050450.19|[22.0,32.0,921.0,...|\n",
      "| 2875816.465186937|2517251.91|[24.0,69.0,394.0,...|\n",
      "+------------------+----------+--------------------+\n",
      "only showing top 5 rows\n",
      "\n",
      "{'dataset': 'on test set',\n",
      " 'mae': '725650.76',\n",
      " 'mse': '1094401459828.37',\n",
      " 'r2': '0.84',\n",
      " 'rmse': '1046136.44'}\n"
     ]
    },
    {
     "name": "stderr",
     "output_type": "stream",
     "text": [
      "C:\\Anaconda3\\lib\\site-packages\\pandas\\plotting\\_core.py:1716: UserWarning: Pandas doesn't allow columns to be created via a new attribute name - see https://pandas.pydata.org/pandas-docs/stable/indexing.html#attribute-access\n",
      "  series.name = label\n"
     ]
    },
    {
     "data": {
      "text/plain": [
       "<matplotlib.axes._subplots.AxesSubplot at 0x1b8b396e400>"
      ]
     },
     "execution_count": 21,
     "metadata": {},
     "output_type": "execute_result"
    },
    {
     "data": {
      "image/png": "[encoded data removed]",
      "text/plain": [
       "<matplotlib.figure.Figure at 0x1b8b38f65f8>"
      ]
     },
     "metadata": {},
     "output_type": "display_data"
    },
    {
     "data": {
      "image/png": "[encoded data removed]",
      "text/plain": [
       "<matplotlib.figure.Figure at 0x1b8b39582b0>"
      ]
     },
     "metadata": {},
     "output_type": "display_data"
    }
   ],
   "source": [
    "validation = model.transform(test_gemeinde.drop(\"features\"))\n",
    "\n",
    "validation.select(\"prediction\", \"label\", \"features\").show(5)\n",
    "\n",
    "\n",
    "metrics_vali = {}\n",
    "importance = {}\n",
    "\n",
    "for metric in [\"mae\", \"mse\", \"rmse\", \"r2\"]:\n",
    "    evaluator = RegressionEvaluator(\n",
    "    labelCol=\"label\", predictionCol=\"prediction\", metricName=metric)\n",
    "    metric_value = evaluator.evaluate(validation)\n",
    "    metrics_vali.update({metric: str(round(metric_value,2))})\n",
    "\n",
    "\n",
    "for i in range(len(rfModel.featureImportances)):\n",
    "    #print( + \" \" + str(rfModel.featureImportances[i]))\n",
    "    importance.update({test_gemeinde.columns[i]: rfModel.featureImportances[i]})\n",
    "    \n",
    "    \n",
    "\n",
    "pp.pprint(metrics_vali)    \n",
    "rfModel.extractParamMap() \n",
    "#rfModel.explainParams() \n",
    "\n",
    "pd.Series(index=importance.keys(), data=importance).plot(kind=\"bar\", title=\"Importance Factor of Input Variables\", figsize=(10, 5))\n",
    "\n",
    "validation.toPandas().sort_values(by=[\"prediction\"]).reset_index().plot(title=\"prediction/label testset\", y=[\"prediction\", \"label\"], figsize=(10, 5))\n"
   ]
  },
  {
   "cell_type": "code",
   "execution_count": 52,
   "metadata": {},
   "outputs": [
    {
     "data": {
      "text/plain": [
       "SparseVector(18, {0: 0.0306, 1: 0.0543, 2: 0.007, 3: 0.0197, 4: 0.2712, 5: 0.4608, 6: 0.006, 7: 0.0647, 8: 0.0243, 9: 0.0053, 10: 0.0167, 11: 0.0091, 12: 0.0242, 13: 0.004, 15: 0.0009, 16: 0.0013})"
      ]
     },
     "execution_count": 52,
     "metadata": {},
     "output_type": "execute_result"
    }
   ],
   "source": [
    "rfModel.featureImportances"
   ]
  },
  {
   "cell_type": "code",
   "execution_count": null,
   "metadata": {},
   "outputs": [],
   "source": []
  },
  {
   "cell_type": "code",
   "execution_count": null,
   "metadata": {
    "scrolled": true
   },
   "outputs": [],
   "source": [
    "pp.pprint(model.stages[1].toDebugString)"
   ]
  },
  {
   "cell_type": "markdown",
   "metadata": {},
   "source": [
    "<h1 align=\"center\">VORHERSAGE</h1>"
   ]
  },
  {
   "cell_type": "code",
   "execution_count": null,
   "metadata": {},
   "outputs": [],
   "source": [
    "hh_1_4_median = prediction_data_set.approxQuantile(\"HH_1_4\", [0.5], 0)[0]\n",
    "prediction = model.transform(prediction_data_set.fillna(hh_1_4_median, subset=[\"HH_1_4\"]))\n",
    "print(prediction.count())\n",
    "prediction.select(\"prediction\", \"features\").show(5)\n",
    "prediction.select(\"prediction\").collect()\n",
    "\n",
    "\n",
    "prediction.toPandas().sort_values(by=[\"prediction\"]).reset_index().plot(title=\"predicted \" + pred_col, y=[\"prediction\"])\n"
   ]
  }
 ],
 "metadata": {
  "kernelspec": {
   "display_name": "Python 3",
   "language": "python",
   "name": "python3"
  },
  "language_info": {
   "codemirror_mode": {
    "name": "ipython",
    "version": 3
   },
   "file_extension": ".py",
   "mimetype": "text/x-python",
   "name": "python",
   "nbconvert_exporter": "python",
   "pygments_lexer": "ipython3",
   "version": "3.6.4"
  }
 },
 "nbformat": 4,
 "nbformat_minor": 2
}
